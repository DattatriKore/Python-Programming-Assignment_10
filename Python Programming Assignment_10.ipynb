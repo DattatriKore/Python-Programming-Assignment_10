{
 "cells": [
  {
   "cell_type": "code",
   "execution_count": 1,
   "id": "5f7d60cb",
   "metadata": {},
   "outputs": [
    {
     "name": "stdout",
     "output_type": "stream",
     "text": [
      "sum of elements in list is: 34\n"
     ]
    }
   ],
   "source": [
    "# Q.[1] : Write a Python program to find sum of elements in list?v\n",
    "\n",
    "l = [1,2,3,4,7,8,9]\n",
    "s = sum(l)\n",
    "print(f\"sum of elements in list is: {s}\")"
   ]
  },
  {
   "cell_type": "code",
   "execution_count": 2,
   "id": "e6048298",
   "metadata": {},
   "outputs": [
    {
     "data": {
      "text/plain": [
       "60480"
      ]
     },
     "execution_count": 2,
     "metadata": {},
     "output_type": "execute_result"
    }
   ],
   "source": [
    "# Q.[2] : Write a Python program to Multiply all numbers in the list?\n",
    "\n",
    "import math\n",
    "l = [7,8,9,4,5,6]\n",
    "math.prod(l)"
   ]
  },
  {
   "cell_type": "code",
   "execution_count": 3,
   "id": "3a9cfb07",
   "metadata": {},
   "outputs": [
    {
     "name": "stdout",
     "output_type": "stream",
     "text": [
      "smallest number in a list is: 45\n"
     ]
    }
   ],
   "source": [
    "# Q.[3] : Write a Python program to find smallest number in a list?\n",
    "\n",
    "l = [45,52,85,96,75]\n",
    "print(f\"smallest number in a list is: {min(l)}\")"
   ]
  },
  {
   "cell_type": "code",
   "execution_count": 4,
   "id": "7f726031",
   "metadata": {},
   "outputs": [
    {
     "name": "stdout",
     "output_type": "stream",
     "text": [
      "largest number in a list is: 96\n"
     ]
    }
   ],
   "source": [
    "# Q.[4] : Write a Python program to find largest number in a list?\n",
    "\n",
    "l = [45,52,85,96,75]\n",
    "print(f\"largest number in a list is: {max(l)}\")"
   ]
  },
  {
   "cell_type": "code",
   "execution_count": 9,
   "id": "efda1a66",
   "metadata": {},
   "outputs": [
    {
     "name": "stdout",
     "output_type": "stream",
     "text": [
      "second largest number in a list is: 85\n"
     ]
    }
   ],
   "source": [
    "# Q.[5] : Write a Python program to find second largest number in a list?\n",
    "\n",
    "l = [45,52,85,96,75]\n",
    "l.sort()\n",
    "print(f\"second largest number in a list is: {l[-2]}\")"
   ]
  },
  {
   "cell_type": "code",
   "execution_count": 42,
   "id": "29bb425b",
   "metadata": {},
   "outputs": [
    {
     "name": "stdout",
     "output_type": "stream",
     "text": [
      "list = [52, 45, 85, 96, 48, 87, 88, 99]\n",
      "N largest elements from a list is: [88, 96, 99]\n"
     ]
    }
   ],
   "source": [
    "# Q.[6] : Write a Python program to find N largest elements from a list?\n",
    "\n",
    "list1 = [52,45,85,96,48,87,88,99]\n",
    "print(\"list =\",list)\n",
    "n = 3\n",
    "list.sort()\n",
    "print(f\"N largest elements from a list is: {list[-n:]}\")"
   ]
  },
  {
   "cell_type": "code",
   "execution_count": 43,
   "id": "59afaa56",
   "metadata": {},
   "outputs": [
    {
     "name": "stdout",
     "output_type": "stream",
     "text": [
      "even numbers in a list is:\n",
      "48 52 88 96 "
     ]
    }
   ],
   "source": [
    "# Q.[7] : Write a Python program to print even numbers in a list?\n",
    "\n",
    "list2 = [52,45,85,96,48,87,88,99]\n",
    "print(\"even numbers in a list is:\")\n",
    "for num in list:\n",
    "    if num %2 == 0:\n",
    "        print(num,end= \" \")"
   ]
  },
  {
   "cell_type": "code",
   "execution_count": 47,
   "id": "6c9ff052",
   "metadata": {},
   "outputs": [
    {
     "name": "stdout",
     "output_type": "stream",
     "text": [
      "odd numbers in a list is:\n",
      "45 85 87 99 "
     ]
    }
   ],
   "source": [
    "# Q.[8] : Write a Python program to print odd numbers in a List?\n",
    "\n",
    "list3 = [52,45,85,96,48,87,88,99]\n",
    "print(\"odd numbers in a list is:\")\n",
    "for num in list:\n",
    "    if num%2 != 0:\n",
    "        print(num,end= \" \")"
   ]
  },
  {
   "cell_type": "code",
   "execution_count": 52,
   "id": "86134d93",
   "metadata": {},
   "outputs": [
    {
     "name": "stdout",
     "output_type": "stream",
     "text": [
      "The original list is : [5, 6, [], 3, [], [], 9]\n",
      "List after empty list removal : [5, 6, 3, 9]\n"
     ]
    }
   ],
   "source": [
    "# Q.[9] : Write a Python program to Remove empty List from List?\n",
    "\n",
    "test_list = [5, 6, [], 3, [], [], 9]\n",
    "\n",
    "print(\"The original list is : \" + str(test_list))\n",
    "\n",
    "res = [ele for ele in test_list if ele != []]\n",
    "\n",
    "print(\"List after empty list removal : \" + str(res))"
   ]
  },
  {
   "cell_type": "code",
   "execution_count": 53,
   "id": "b1544575",
   "metadata": {},
   "outputs": [
    {
     "name": "stdout",
     "output_type": "stream",
     "text": [
      "Original List: [4, 8, 2, 10, 15, 18]\n",
      "After Cloning: [4, 8, 2, 10, 15, 18]\n"
     ]
    }
   ],
   "source": [
    "# Q.[10] : Write a Python program to Cloning or Copying a list?\n",
    "\n",
    "def Cloning(l1):\n",
    "    li_copy = l1[:]\n",
    "    return li_copy\n",
    " \n",
    "l1 = [4, 8, 2, 10, 15, 18]\n",
    "l2 = Cloning(l1)\n",
    "print(\"Original List:\", l1)\n",
    "print(\"After Cloning:\", l2)"
   ]
  },
  {
   "cell_type": "code",
   "execution_count": 54,
   "id": "8b7aa787",
   "metadata": {},
   "outputs": [
    {
     "name": "stdout",
     "output_type": "stream",
     "text": [
      "8 has occurred 5 times\n"
     ]
    }
   ],
   "source": [
    "# Q.[11] : Write a Python program to Count occurrences of an element in a list?\n",
    "\n",
    "def countX(lst, x):\n",
    "    return lst.count(x)\n",
    " \n",
    "lst = [8, 6, 8, 10, 8, 20, 10, 8, 8]\n",
    "x = 8\n",
    "print('{} has occurred {} times'.format(x,countX(lst, x)))"
   ]
  },
  {
   "cell_type": "code",
   "execution_count": null,
   "id": "59cafe7d",
   "metadata": {},
   "outputs": [],
   "source": []
  }
 ],
 "metadata": {
  "kernelspec": {
   "display_name": "Python 3 (ipykernel)",
   "language": "python",
   "name": "python3"
  },
  "language_info": {
   "codemirror_mode": {
    "name": "ipython",
    "version": 3
   },
   "file_extension": ".py",
   "mimetype": "text/x-python",
   "name": "python",
   "nbconvert_exporter": "python",
   "pygments_lexer": "ipython3",
   "version": "3.9.12"
  }
 },
 "nbformat": 4,
 "nbformat_minor": 5
}
